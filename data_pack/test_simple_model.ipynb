{
 "cells": [
  {
   "cell_type": "code",
   "execution_count": 72,
   "metadata": {},
   "outputs": [],
   "source": [
    "import pandas as pd\n",
    "import numpy as np\n",
    "import tensorflow as tf\n",
    "from tensorflow.keras.layers import Dense, Dropout, Input\n",
    "from tensorflow.keras.optimizers import Adam\n",
    "from tensorflow.keras.models import Model, Sequential"
   ]
  },
  {
   "cell_type": "code",
   "execution_count": 73,
   "metadata": {},
   "outputs": [],
   "source": [
    "train_df = pd.read_csv('train_standard.csv')"
   ]
  },
  {
   "cell_type": "code",
   "execution_count": 74,
   "metadata": {},
   "outputs": [],
   "source": [
    "train_df = train_df.drop('Unnamed: 0', axis=1)"
   ]
  },
  {
   "cell_type": "code",
   "execution_count": 75,
   "metadata": {},
   "outputs": [
    {
     "data": {
      "text/html": [
       "<div>\n",
       "<style scoped>\n",
       "    .dataframe tbody tr th:only-of-type {\n",
       "        vertical-align: middle;\n",
       "    }\n",
       "\n",
       "    .dataframe tbody tr th {\n",
       "        vertical-align: top;\n",
       "    }\n",
       "\n",
       "    .dataframe thead th {\n",
       "        text-align: right;\n",
       "    }\n",
       "</style>\n",
       "<table border=\"1\" class=\"dataframe\">\n",
       "  <thead>\n",
       "    <tr style=\"text-align: right;\">\n",
       "      <th></th>\n",
       "      <th>id</th>\n",
       "      <th>cc_no</th>\n",
       "      <th>gender</th>\n",
       "      <th>ocp_cd</th>\n",
       "      <th>age</th>\n",
       "      <th>income</th>\n",
       "      <th>kp_txn_count</th>\n",
       "      <th>kp_txn_amt</th>\n",
       "      <th>cc_txn_amt</th>\n",
       "    </tr>\n",
       "  </thead>\n",
       "  <tbody>\n",
       "    <tr>\n",
       "      <th>0</th>\n",
       "      <td>1</td>\n",
       "      <td>1</td>\n",
       "      <td>2</td>\n",
       "      <td>9.0</td>\n",
       "      <td>5</td>\n",
       "      <td>20000</td>\n",
       "      <td>1.000000</td>\n",
       "      <td>1750.000000</td>\n",
       "      <td>0.000000</td>\n",
       "    </tr>\n",
       "    <tr>\n",
       "      <th>1</th>\n",
       "      <td>1</td>\n",
       "      <td>98397</td>\n",
       "      <td>2</td>\n",
       "      <td>9.0</td>\n",
       "      <td>5</td>\n",
       "      <td>20000</td>\n",
       "      <td>1.000000</td>\n",
       "      <td>1750.000000</td>\n",
       "      <td>5000.000000</td>\n",
       "    </tr>\n",
       "    <tr>\n",
       "      <th>2</th>\n",
       "      <td>2</td>\n",
       "      <td>2</td>\n",
       "      <td>2</td>\n",
       "      <td>3.0</td>\n",
       "      <td>4</td>\n",
       "      <td>106000</td>\n",
       "      <td>4.346154</td>\n",
       "      <td>9111.538462</td>\n",
       "      <td>1034.615385</td>\n",
       "    </tr>\n",
       "    <tr>\n",
       "      <th>3</th>\n",
       "      <td>2</td>\n",
       "      <td>9740</td>\n",
       "      <td>2</td>\n",
       "      <td>3.0</td>\n",
       "      <td>4</td>\n",
       "      <td>106000</td>\n",
       "      <td>4.487805</td>\n",
       "      <td>9514.634146</td>\n",
       "      <td>797.560976</td>\n",
       "    </tr>\n",
       "    <tr>\n",
       "      <th>4</th>\n",
       "      <td>3</td>\n",
       "      <td>3</td>\n",
       "      <td>2</td>\n",
       "      <td>1.0</td>\n",
       "      <td>3</td>\n",
       "      <td>29000</td>\n",
       "      <td>3.333333</td>\n",
       "      <td>6652.380952</td>\n",
       "      <td>0.000000</td>\n",
       "    </tr>\n",
       "  </tbody>\n",
       "</table>\n",
       "</div>"
      ],
      "text/plain": [
       "   id  cc_no  gender  ocp_cd  age  income  kp_txn_count   kp_txn_amt  \\\n",
       "0   1      1       2     9.0    5   20000      1.000000  1750.000000   \n",
       "1   1  98397       2     9.0    5   20000      1.000000  1750.000000   \n",
       "2   2      2       2     3.0    4  106000      4.346154  9111.538462   \n",
       "3   2   9740       2     3.0    4  106000      4.487805  9514.634146   \n",
       "4   3      3       2     1.0    3   29000      3.333333  6652.380952   \n",
       "\n",
       "    cc_txn_amt  \n",
       "0     0.000000  \n",
       "1  5000.000000  \n",
       "2  1034.615385  \n",
       "3   797.560976  \n",
       "4     0.000000  "
      ]
     },
     "execution_count": 75,
     "metadata": {},
     "output_type": "execute_result"
    }
   ],
   "source": [
    "train_df.head()"
   ]
  },
  {
   "cell_type": "code",
   "execution_count": 76,
   "metadata": {},
   "outputs": [
    {
     "data": {
      "text/html": [
       "<div>\n",
       "<style scoped>\n",
       "    .dataframe tbody tr th:only-of-type {\n",
       "        vertical-align: middle;\n",
       "    }\n",
       "\n",
       "    .dataframe tbody tr th {\n",
       "        vertical-align: top;\n",
       "    }\n",
       "\n",
       "    .dataframe thead th {\n",
       "        text-align: right;\n",
       "    }\n",
       "</style>\n",
       "<table border=\"1\" class=\"dataframe\">\n",
       "  <thead>\n",
       "    <tr style=\"text-align: right;\">\n",
       "      <th></th>\n",
       "      <th>id</th>\n",
       "      <th>income</th>\n",
       "    </tr>\n",
       "  </thead>\n",
       "  <tbody>\n",
       "    <tr>\n",
       "      <th>0</th>\n",
       "      <td>1</td>\n",
       "      <td>20000</td>\n",
       "    </tr>\n",
       "    <tr>\n",
       "      <th>1</th>\n",
       "      <td>2</td>\n",
       "      <td>106000</td>\n",
       "    </tr>\n",
       "    <tr>\n",
       "      <th>2</th>\n",
       "      <td>3</td>\n",
       "      <td>29000</td>\n",
       "    </tr>\n",
       "    <tr>\n",
       "      <th>3</th>\n",
       "      <td>4</td>\n",
       "      <td>61000</td>\n",
       "    </tr>\n",
       "    <tr>\n",
       "      <th>4</th>\n",
       "      <td>5</td>\n",
       "      <td>18000</td>\n",
       "    </tr>\n",
       "  </tbody>\n",
       "</table>\n",
       "</div>"
      ],
      "text/plain": [
       "   id  income\n",
       "0   1   20000\n",
       "1   2  106000\n",
       "2   3   29000\n",
       "3   4   61000\n",
       "4   5   18000"
      ]
     },
     "execution_count": 76,
     "metadata": {},
     "output_type": "execute_result"
    }
   ],
   "source": [
    "train_id_df = pd.read_csv('train.csv')\n",
    "train_id_df.head()"
   ]
  },
  {
   "cell_type": "code",
   "execution_count": 77,
   "metadata": {},
   "outputs": [
    {
     "data": {
      "text/html": [
       "<div>\n",
       "<style scoped>\n",
       "    .dataframe tbody tr th:only-of-type {\n",
       "        vertical-align: middle;\n",
       "    }\n",
       "\n",
       "    .dataframe tbody tr th {\n",
       "        vertical-align: top;\n",
       "    }\n",
       "\n",
       "    .dataframe thead th {\n",
       "        text-align: right;\n",
       "    }\n",
       "</style>\n",
       "<table border=\"1\" class=\"dataframe\">\n",
       "  <thead>\n",
       "    <tr style=\"text-align: right;\">\n",
       "      <th></th>\n",
       "      <th></th>\n",
       "      <th></th>\n",
       "      <th></th>\n",
       "      <th></th>\n",
       "      <th>kp_txn_count</th>\n",
       "      <th>kp_txn_amt</th>\n",
       "      <th>cc_txn_amt</th>\n",
       "    </tr>\n",
       "    <tr>\n",
       "      <th>id</th>\n",
       "      <th>gender</th>\n",
       "      <th>ocp_cd</th>\n",
       "      <th>age</th>\n",
       "      <th>income</th>\n",
       "      <th></th>\n",
       "      <th></th>\n",
       "      <th></th>\n",
       "    </tr>\n",
       "  </thead>\n",
       "  <tbody>\n",
       "    <tr>\n",
       "      <th>1</th>\n",
       "      <th>2</th>\n",
       "      <th>9.0</th>\n",
       "      <th>5</th>\n",
       "      <th>20000</th>\n",
       "      <td>1.000000</td>\n",
       "      <td>1750.000000</td>\n",
       "      <td>2500.000000</td>\n",
       "    </tr>\n",
       "    <tr>\n",
       "      <th>2</th>\n",
       "      <th>2</th>\n",
       "      <th>3.0</th>\n",
       "      <th>4</th>\n",
       "      <th>106000</th>\n",
       "      <td>4.416979</td>\n",
       "      <td>9313.086304</td>\n",
       "      <td>916.088180</td>\n",
       "    </tr>\n",
       "    <tr>\n",
       "      <th>3</th>\n",
       "      <th>2</th>\n",
       "      <th>1.0</th>\n",
       "      <th>3</th>\n",
       "      <th>29000</th>\n",
       "      <td>3.333333</td>\n",
       "      <td>6652.380952</td>\n",
       "      <td>0.000000</td>\n",
       "    </tr>\n",
       "    <tr>\n",
       "      <th>4</th>\n",
       "      <th>2</th>\n",
       "      <th>3.0</th>\n",
       "      <th>5</th>\n",
       "      <th>61000</th>\n",
       "      <td>12.191071</td>\n",
       "      <td>247372.142857</td>\n",
       "      <td>8785.714286</td>\n",
       "    </tr>\n",
       "    <tr>\n",
       "      <th>6</th>\n",
       "      <th>1</th>\n",
       "      <th>3.0</th>\n",
       "      <th>3</th>\n",
       "      <th>19000</th>\n",
       "      <td>3.333333</td>\n",
       "      <td>4466.666667</td>\n",
       "      <td>3833.333333</td>\n",
       "    </tr>\n",
       "    <tr>\n",
       "      <th>...</th>\n",
       "      <th>...</th>\n",
       "      <th>...</th>\n",
       "      <th>...</th>\n",
       "      <th>...</th>\n",
       "      <td>...</td>\n",
       "      <td>...</td>\n",
       "      <td>...</td>\n",
       "    </tr>\n",
       "    <tr>\n",
       "      <th>49995</th>\n",
       "      <th>1</th>\n",
       "      <th>4.0</th>\n",
       "      <th>6</th>\n",
       "      <th>132000</th>\n",
       "      <td>1.625000</td>\n",
       "      <td>5718.750000</td>\n",
       "      <td>793.750000</td>\n",
       "    </tr>\n",
       "    <tr>\n",
       "      <th>49996</th>\n",
       "      <th>2</th>\n",
       "      <th>3.0</th>\n",
       "      <th>4</th>\n",
       "      <th>48000</th>\n",
       "      <td>3.125000</td>\n",
       "      <td>7281.250000</td>\n",
       "      <td>246.875000</td>\n",
       "    </tr>\n",
       "    <tr>\n",
       "      <th>49997</th>\n",
       "      <th>1</th>\n",
       "      <th>9.0</th>\n",
       "      <th>5</th>\n",
       "      <th>37000</th>\n",
       "      <td>9.687692</td>\n",
       "      <td>27355.461538</td>\n",
       "      <td>59.615385</td>\n",
       "    </tr>\n",
       "    <tr>\n",
       "      <th>49998</th>\n",
       "      <th>2</th>\n",
       "      <th>9.0</th>\n",
       "      <th>2</th>\n",
       "      <th>19000</th>\n",
       "      <td>7.148148</td>\n",
       "      <td>16459.259259</td>\n",
       "      <td>537.037037</td>\n",
       "    </tr>\n",
       "    <tr>\n",
       "      <th>49999</th>\n",
       "      <th>2</th>\n",
       "      <th>3.0</th>\n",
       "      <th>3</th>\n",
       "      <th>13000</th>\n",
       "      <td>1.421053</td>\n",
       "      <td>8657.894737</td>\n",
       "      <td>310.526316</td>\n",
       "    </tr>\n",
       "  </tbody>\n",
       "</table>\n",
       "<p>38046 rows × 3 columns</p>\n",
       "</div>"
      ],
      "text/plain": [
       "                                kp_txn_count     kp_txn_amt   cc_txn_amt\n",
       "id    gender ocp_cd age income                                          \n",
       "1     2      9.0    5   20000       1.000000    1750.000000  2500.000000\n",
       "2     2      3.0    4   106000      4.416979    9313.086304   916.088180\n",
       "3     2      1.0    3   29000       3.333333    6652.380952     0.000000\n",
       "4     2      3.0    5   61000      12.191071  247372.142857  8785.714286\n",
       "6     1      3.0    3   19000       3.333333    4466.666667  3833.333333\n",
       "...                                      ...            ...          ...\n",
       "49995 1      4.0    6   132000      1.625000    5718.750000   793.750000\n",
       "49996 2      3.0    4   48000       3.125000    7281.250000   246.875000\n",
       "49997 1      9.0    5   37000       9.687692   27355.461538    59.615385\n",
       "49998 2      9.0    2   19000       7.148148   16459.259259   537.037037\n",
       "49999 2      3.0    3   13000       1.421053    8657.894737   310.526316\n",
       "\n",
       "[38046 rows x 3 columns]"
      ]
     },
     "execution_count": 77,
     "metadata": {},
     "output_type": "execute_result"
    }
   ],
   "source": [
    "train_df = train_df.drop('cc_no', axis=1)\n",
    "temp_group = train_df.groupby(['id', 'gender', 'ocp_cd', 'age', 'income']).mean()\n",
    "temp_group"
   ]
  },
  {
   "cell_type": "code",
   "execution_count": 78,
   "metadata": {},
   "outputs": [
    {
     "data": {
      "text/html": [
       "<div>\n",
       "<style scoped>\n",
       "    .dataframe tbody tr th:only-of-type {\n",
       "        vertical-align: middle;\n",
       "    }\n",
       "\n",
       "    .dataframe tbody tr th {\n",
       "        vertical-align: top;\n",
       "    }\n",
       "\n",
       "    .dataframe thead th {\n",
       "        text-align: right;\n",
       "    }\n",
       "</style>\n",
       "<table border=\"1\" class=\"dataframe\">\n",
       "  <thead>\n",
       "    <tr style=\"text-align: right;\">\n",
       "      <th></th>\n",
       "      <th>id</th>\n",
       "      <th>gender</th>\n",
       "      <th>ocp_cd</th>\n",
       "      <th>age</th>\n",
       "      <th>income</th>\n",
       "      <th>kp_txn_count</th>\n",
       "      <th>kp_txn_amt</th>\n",
       "      <th>cc_txn_amt</th>\n",
       "    </tr>\n",
       "  </thead>\n",
       "  <tbody>\n",
       "    <tr>\n",
       "      <th>0</th>\n",
       "      <td>1</td>\n",
       "      <td>2</td>\n",
       "      <td>9.0</td>\n",
       "      <td>5</td>\n",
       "      <td>20000</td>\n",
       "      <td>1.000000</td>\n",
       "      <td>1750.000000</td>\n",
       "      <td>2500.000000</td>\n",
       "    </tr>\n",
       "    <tr>\n",
       "      <th>1</th>\n",
       "      <td>2</td>\n",
       "      <td>2</td>\n",
       "      <td>3.0</td>\n",
       "      <td>4</td>\n",
       "      <td>106000</td>\n",
       "      <td>4.416979</td>\n",
       "      <td>9313.086304</td>\n",
       "      <td>916.088180</td>\n",
       "    </tr>\n",
       "    <tr>\n",
       "      <th>2</th>\n",
       "      <td>3</td>\n",
       "      <td>2</td>\n",
       "      <td>1.0</td>\n",
       "      <td>3</td>\n",
       "      <td>29000</td>\n",
       "      <td>3.333333</td>\n",
       "      <td>6652.380952</td>\n",
       "      <td>0.000000</td>\n",
       "    </tr>\n",
       "    <tr>\n",
       "      <th>3</th>\n",
       "      <td>4</td>\n",
       "      <td>2</td>\n",
       "      <td>3.0</td>\n",
       "      <td>5</td>\n",
       "      <td>61000</td>\n",
       "      <td>12.191071</td>\n",
       "      <td>247372.142857</td>\n",
       "      <td>8785.714286</td>\n",
       "    </tr>\n",
       "    <tr>\n",
       "      <th>4</th>\n",
       "      <td>6</td>\n",
       "      <td>1</td>\n",
       "      <td>3.0</td>\n",
       "      <td>3</td>\n",
       "      <td>19000</td>\n",
       "      <td>3.333333</td>\n",
       "      <td>4466.666667</td>\n",
       "      <td>3833.333333</td>\n",
       "    </tr>\n",
       "  </tbody>\n",
       "</table>\n",
       "</div>"
      ],
      "text/plain": [
       "   id  gender  ocp_cd  age  income  kp_txn_count     kp_txn_amt   cc_txn_amt\n",
       "0   1       2     9.0    5   20000      1.000000    1750.000000  2500.000000\n",
       "1   2       2     3.0    4  106000      4.416979    9313.086304   916.088180\n",
       "2   3       2     1.0    3   29000      3.333333    6652.380952     0.000000\n",
       "3   4       2     3.0    5   61000     12.191071  247372.142857  8785.714286\n",
       "4   6       1     3.0    3   19000      3.333333    4466.666667  3833.333333"
      ]
     },
     "execution_count": 78,
     "metadata": {},
     "output_type": "execute_result"
    }
   ],
   "source": [
    "df = temp_group.reset_index()\n",
    "df.head()"
   ]
  },
  {
   "cell_type": "code",
   "execution_count": 79,
   "metadata": {},
   "outputs": [
    {
     "data": {
      "text/plain": [
       "38046"
      ]
     },
     "execution_count": 79,
     "metadata": {},
     "output_type": "execute_result"
    }
   ],
   "source": [
    "len(df)"
   ]
  },
  {
   "cell_type": "code",
   "execution_count": 80,
   "metadata": {},
   "outputs": [
    {
     "data": {
      "text/plain": [
       "30436.800000000003"
      ]
     },
     "execution_count": 80,
     "metadata": {},
     "output_type": "execute_result"
    }
   ],
   "source": [
    "len(df) * 0.8"
   ]
  },
  {
   "cell_type": "code",
   "execution_count": 81,
   "metadata": {},
   "outputs": [
    {
     "data": {
      "text/plain": [
       "7609.200000000001"
      ]
     },
     "execution_count": 81,
     "metadata": {},
     "output_type": "execute_result"
    }
   ],
   "source": [
    "len(df) * 0.2"
   ]
  },
  {
   "cell_type": "code",
   "execution_count": 82,
   "metadata": {},
   "outputs": [],
   "source": [
    "indices = np.random.randint(len(df), size=len(df))\n",
    "val = df.iloc[indices[:int(len(df)*0.2)]]\n",
    "test = df.iloc[indices[int(len(df)*0.2):int(len(df)*0.2)*2]]\n",
    "train = df.iloc[indices[int(len(df)*0.2)*2:]]"
   ]
  },
  {
   "cell_type": "code",
   "execution_count": 83,
   "metadata": {},
   "outputs": [],
   "source": [
    "def split_x_y(df):\n",
    "    X = pd.DataFrame()\n",
    "    y = pd.DataFrame()\n",
    "    cols = df.columns\n",
    "    for col in cols:\n",
    "        if col == 'income':\n",
    "            y[col] = df[col]\n",
    "        elif col == 'id':\n",
    "            pass\n",
    "        else:\n",
    "            X[col] = df[col]\n",
    "    X = X.to_numpy()\n",
    "    y = y.to_numpy().reshape(-1)\n",
    "    return X, y"
   ]
  },
  {
   "cell_type": "code",
   "execution_count": 95,
   "metadata": {},
   "outputs": [
    {
     "data": {
      "text/plain": [
       "(7609, 6)"
      ]
     },
     "execution_count": 95,
     "metadata": {},
     "output_type": "execute_result"
    }
   ],
   "source": [
    "x_val, y_val = split_x_y(val)\n",
    "x_test, y_test = split_x_y(test)\n",
    "x_train, y_train = split_x_y(train)\n",
    "x_val.shape"
   ]
  },
  {
   "cell_type": "code",
   "execution_count": 89,
   "metadata": {
    "scrolled": true
   },
   "outputs": [
    {
     "name": "stderr",
     "output_type": "stream",
     "text": [
      "W1104 23:52:42.402085 4610329920 nn_ops.py:4283] Large dropout rate: 0.7 (>0.5). In TensorFlow 2.x, dropout() uses dropout rate instead of keep_prob. Please ensure that this is intended.\n",
      "W1104 23:52:42.602075 4610329920 nn_ops.py:4283] Large dropout rate: 0.7 (>0.5). In TensorFlow 2.x, dropout() uses dropout rate instead of keep_prob. Please ensure that this is intended.\n"
     ]
    },
    {
     "name": "stdout",
     "output_type": "stream",
     "text": [
      "Model: \"sequential_8\"\n",
      "_________________________________________________________________\n",
      "Layer (type)                 Output Shape              Param #   \n",
      "=================================================================\n",
      "dense_24 (Dense)             (None, 1024)              7168      \n",
      "_________________________________________________________________\n",
      "dropout_12 (Dropout)         (None, 1024)              0         \n",
      "_________________________________________________________________\n",
      "dense_25 (Dense)             (None, 128)               131200    \n",
      "_________________________________________________________________\n",
      "dropout_13 (Dropout)         (None, 128)               0         \n",
      "_________________________________________________________________\n",
      "dense_26 (Dense)             (None, 1)                 129       \n",
      "=================================================================\n",
      "Total params: 138,497\n",
      "Trainable params: 138,497\n",
      "Non-trainable params: 0\n",
      "_________________________________________________________________\n",
      "Train on 22828 samples, validate on 7609 samples\n",
      "Epoch 1/100\n",
      "22828/22828 [==============================] - 2s 81us/sample - loss: 358881347942.0501 - mse: 358881296384.0000 - val_loss: 4678809499.9753 - val_mse: 4678809600.0000\n",
      "Epoch 2/100\n",
      "22828/22828 [==============================] - 1s 37us/sample - loss: 5714679084.0946 - mse: 5714679808.0000 - val_loss: 4846858665.1302 - val_mse: 4846858752.0000\n",
      "Epoch 3/100\n",
      "22828/22828 [==============================] - 1s 37us/sample - loss: 5132028326.6445 - mse: 5132028416.0000 - val_loss: 4523270895.5479 - val_mse: 4523270656.0000\n",
      "Epoch 4/100\n",
      "22828/22828 [==============================] - 1s 39us/sample - loss: 4664523364.7941 - mse: 4664523264.0000 - val_loss: 4408256927.0706 - val_mse: 4408257024.0000\n",
      "Epoch 5/100\n",
      "22828/22828 [==============================] - 1s 45us/sample - loss: 4848476338.3522 - mse: 4848476160.0000 - val_loss: 4450341294.7825 - val_mse: 4450340864.0000\n",
      "Epoch 6/100\n",
      "22828/22828 [==============================] - 1s 36us/sample - loss: 4876615207.4743 - mse: 4876614656.0000 - val_loss: 4414401247.3986 - val_mse: 4414401536.0000\n",
      "Epoch 7/100\n",
      "22828/22828 [==============================] - 1s 35us/sample - loss: 4881676889.9387 - mse: 4881677312.0000 - val_loss: 4400940768.0379 - val_mse: 4400941056.0000\n",
      "Epoch 8/100\n",
      "22828/22828 [==============================] - 1s 39us/sample - loss: 4834225629.9982 - mse: 4834225664.0000 - val_loss: 4511445483.2078 - val_mse: 4511445504.0000\n",
      "Epoch 9/100\n",
      "22828/22828 [==============================] - 1s 39us/sample - loss: 4668163773.5665 - mse: 4668163584.0000 - val_loss: 4402211155.4044 - val_mse: 4402211328.0000\n",
      "Epoch 10/100\n",
      "22828/22828 [==============================] - 1s 33us/sample - loss: 4662295326.4580 - mse: 4662295552.0000 - val_loss: 4354551321.8052 - val_mse: 4354551296.0000\n",
      "Epoch 11/100\n",
      "22828/22828 [==============================] - 1s 34us/sample - loss: 4584294384.6588 - mse: 4584294912.0000 - val_loss: 4345529881.3006 - val_mse: 4345529856.0000\n",
      "Epoch 12/100\n",
      "22828/22828 [==============================] - 1s 40us/sample - loss: 4533114844.2937 - mse: 4533114880.0000 - val_loss: 4312600185.0861 - val_mse: 4312600576.0000\n",
      "Epoch 13/100\n",
      "22828/22828 [==============================] - 1s 37us/sample - loss: 4558650363.4246 - mse: 4558650368.0000 - val_loss: 4291255598.5302 - val_mse: 4291255552.0000\n",
      "Epoch 14/100\n",
      "22828/22828 [==============================] - 1s 37us/sample - loss: 4591530195.2774 - mse: 4591531008.0000 - val_loss: 4310261232.6582 - val_mse: 4310261248.0000\n",
      "Epoch 15/100\n",
      "22828/22828 [==============================] - 1s 36us/sample - loss: 4618594123.7638 - mse: 4618594304.0000 - val_loss: 4319954242.6495 - val_mse: 4319954432.0000\n",
      "Epoch 16/100\n",
      "22828/22828 [==============================] - 1s 36us/sample - loss: 4507525789.1347 - mse: 4507525120.0000 - val_loss: 4307810949.3999 - val_mse: 4307810816.0000\n",
      "Epoch 17/100\n",
      "22828/22828 [==============================] - 1s 35us/sample - loss: 4528170221.7880 - mse: 4528170496.0000 - val_loss: 4281987837.0729 - val_mse: 4281987840.0000\n",
      "Epoch 18/100\n",
      "22828/22828 [==============================] - 1s 40us/sample - loss: 4496739190.5576 - mse: 4496738816.0000 - val_loss: 4276080106.0639 - val_mse: 4276080128.0000\n",
      "Epoch 19/100\n",
      "22828/22828 [==============================] - 1s 46us/sample - loss: 4488440304.5691 - mse: 4488440320.0000 - val_loss: 4268703730.6768 - val_mse: 4268703488.0000\n",
      "Epoch 20/100\n",
      "22828/22828 [==============================] - 1s 40us/sample - loss: 4736191739.6489 - mse: 4736192512.0000 - val_loss: 4308538804.3675 - val_mse: 4308538880.0000\n",
      "Epoch 21/100\n",
      "22828/22828 [==============================] - 1s 43us/sample - loss: 4658424697.9667 - mse: 4658424320.0000 - val_loss: 4364036525.0666 - val_mse: 4364036096.0000\n",
      "Epoch 22/100\n",
      "22828/22828 [==============================] - 1s 38us/sample - loss: 4472895358.9010 - mse: 4472894976.0000 - val_loss: 4304020755.1100 - val_mse: 4304020480.0000\n",
      "Epoch 23/100\n",
      "22828/22828 [==============================] - 1s 36us/sample - loss: 4556575346.8344 - mse: 4556575744.0000 - val_loss: 4271849997.4241 - val_mse: 4271850240.0000\n",
      "Epoch 24/100\n",
      "22828/22828 [==============================] - 1s 44us/sample - loss: 4573367555.8577 - mse: 4573367808.0000 - val_loss: 4318849213.3505 - val_mse: 4318849536.0000\n",
      "Epoch 25/100\n",
      "22828/22828 [==============================] - 1s 59us/sample - loss: 4415586946.3999 - mse: 4415586816.0000 - val_loss: 4243168520.7475 - val_mse: 4243168512.0000\n",
      "Epoch 26/100\n",
      "22828/22828 [==============================] - 1s 53us/sample - loss: 4609571541.6100 - mse: 4609571328.0000 - val_loss: 4240486843.2646 - val_mse: 4240486656.0000\n",
      "Epoch 27/100\n",
      "22828/22828 [==============================] - 1s 51us/sample - loss: 4514721333.5595 - mse: 4514721792.0000 - val_loss: 4249575706.9155 - val_mse: 4249575680.0000\n",
      "Epoch 28/100\n",
      "22828/22828 [==============================] - 1s 56us/sample - loss: 4495769589.0997 - mse: 4495770112.0000 - val_loss: 4222209230.5764 - val_mse: 4222209536.0000\n",
      "Epoch 29/100\n",
      "22828/22828 [==============================] - 2s 70us/sample - loss: 4601559492.1156 - mse: 4601559552.0000 - val_loss: 4249215031.4459 - val_mse: 4249214976.0000\n",
      "Epoch 30/100\n",
      "22828/22828 [==============================] - 1s 47us/sample - loss: 4467559252.2418 - mse: 4467559424.0000 - val_loss: 4253160733.5734 - val_mse: 4253160448.0000\n",
      "Epoch 31/100\n",
      "22828/22828 [==============================] - 2s 75us/sample - loss: 4515704635.6152 - mse: 4515704320.0000 - val_loss: 4233794359.0085 - val_mse: 4233794304.0000\n",
      "Epoch 32/100\n",
      "22828/22828 [==============================] - ETA: 0s - loss: 4524191953.4545 - mse: 4524191744.000 - 1s 61us/sample - loss: 4514777800.7808 - mse: 4514777600.0000 - val_loss: 4207721544.6718 - val_mse: 4207721472.0000\n",
      "Epoch 33/100\n",
      "22828/22828 [==============================] - 1s 51us/sample - loss: 4441961614.0179 - mse: 4441961472.0000 - val_loss: 4205640345.1492 - val_mse: 4205640192.0000\n",
      "Epoch 34/100\n",
      "22828/22828 [==============================] - 1s 38us/sample - loss: 4536180495.9243 - mse: 4536180736.0000 - val_loss: 4201882164.8553 - val_mse: 4201882112.0000\n",
      "Epoch 35/100\n",
      "22828/22828 [==============================] - 1s 36us/sample - loss: 4406747825.9485 - mse: 4406747136.0000 - val_loss: 4194240471.9632 - val_mse: 4194240256.0000\n",
      "Epoch 36/100\n",
      "22828/22828 [==============================] - 1s 36us/sample - loss: 4579884205.5076 - mse: 4579885056.0000 - val_loss: 4203036302.5848 - val_mse: 4203036416.0000\n",
      "Epoch 37/100\n",
      "22828/22828 [==============================] - 1s 36us/sample - loss: 4639388316.2376 - mse: 4639388160.0000 - val_loss: 4227416037.9593 - val_mse: 4227416320.0000\n",
      "Epoch 38/100\n",
      "22828/22828 [==============================] - 1s 36us/sample - loss: 4498654361.6807 - mse: 4498654720.0000 - val_loss: 4208965785.1155 - val_mse: 4208965632.0000\n",
      "Epoch 39/100\n",
      "22828/22828 [==============================] - 1s 39us/sample - loss: 4476454960.4009 - mse: 4476455424.0000 - val_loss: 4208295081.4667 - val_mse: 4208294912.0000\n",
      "Epoch 40/100\n",
      "22828/22828 [==============================] - 1s 37us/sample - loss: 4378923544.6715 - mse: 4378923520.0000 - val_loss: 4187206062.4797 - val_mse: 4187205888.0000\n"
     ]
    },
    {
     "name": "stdout",
     "output_type": "stream",
     "text": [
      "Epoch 41/100\n",
      "22828/22828 [==============================] - 1s 33us/sample - loss: 4600615004.8992 - mse: 4600614912.0000 - val_loss: 4189707051.9059 - val_mse: 4189707264.0000\n",
      "Epoch 42/100\n",
      "22828/22828 [==============================] - 1s 35us/sample - loss: 4397565760.0561 - mse: 4397565440.0000 - val_loss: 4196353142.2600 - val_mse: 4196353280.0000\n",
      "Epoch 43/100\n",
      "22828/22828 [==============================] - 1s 35us/sample - loss: 4361440725.4754 - mse: 4361440256.0000 - val_loss: 4185406917.5261 - val_mse: 4185406976.0000\n",
      "Epoch 44/100\n",
      "22828/22828 [==============================] - 1s 35us/sample - loss: 4400462939.0152 - mse: 4400462848.0000 - val_loss: 4171491212.5998 - val_mse: 4171491072.0000\n",
      "Epoch 45/100\n",
      "22828/22828 [==============================] - 1s 35us/sample - loss: 4492169931.4722 - mse: 4492170240.0000 - val_loss: 4176729944.5183 - val_mse: 4176729856.0000\n",
      "Epoch 46/100\n",
      "22828/22828 [==============================] - 1s 36us/sample - loss: 4409916413.3086 - mse: 4409915904.0000 - val_loss: 4172371560.1293 - val_mse: 4172371712.0000\n",
      "Epoch 47/100\n",
      "22828/22828 [==============================] - 1s 36us/sample - loss: 4592169790.7552 - mse: 4592168960.0000 - val_loss: 4175636601.6580 - val_mse: 4175636736.0000\n",
      "Epoch 48/100\n",
      "22828/22828 [==============================] - 1s 37us/sample - loss: 4390695165.4431 - mse: 4390694912.0000 - val_loss: 4183744485.2191 - val_mse: 4183744768.0000\n",
      "Epoch 49/100\n",
      "22828/22828 [==============================] - 1s 37us/sample - loss: 4433598479.1617 - mse: 4433598464.0000 - val_loss: 4180609940.7418 - val_mse: 4180610048.0000\n",
      "Epoch 50/100\n",
      "22828/22828 [==============================] - 1s 34us/sample - loss: 4445309231.4141 - mse: 4445309952.0000 - val_loss: 4174023743.7561 - val_mse: 4174023680.0000\n",
      "Epoch 51/100\n",
      "22828/22828 [==============================] - 1s 36us/sample - loss: 4431097120.1626 - mse: 4431096832.0000 - val_loss: 4178240449.9934 - val_mse: 4178240256.0000\n",
      "Epoch 52/100\n",
      "22828/22828 [==============================] - 1s 38us/sample - loss: 4344067354.6003 - mse: 4344067072.0000 - val_loss: 4163447335.1620 - val_mse: 4163447296.0000\n",
      "Epoch 53/100\n",
      "22828/22828 [==============================] - 1s 36us/sample - loss: 4348663348.0343 - mse: 4348663296.0000 - val_loss: 4155558646.2431 - val_mse: 4155558400.0000\n",
      "Epoch 54/100\n",
      "22828/22828 [==============================] - 1s 35us/sample - loss: 4402763318.4566 - mse: 4402763264.0000 - val_loss: 4154781126.0980 - val_mse: 4154781184.0000\n",
      "Epoch 55/100\n",
      "22828/22828 [==============================] - 1s 35us/sample - loss: 4336002511.3748 - mse: 4336002560.0000 - val_loss: 4150254766.3451 - val_mse: 4150254592.0000\n",
      "Epoch 56/100\n",
      "22828/22828 [==============================] - 1s 38us/sample - loss: 4479606435.8185 - mse: 4479606272.0000 - val_loss: 4152013913.6622 - val_mse: 4152014080.0000\n",
      "Epoch 57/100\n",
      "22828/22828 [==============================] - 1s 37us/sample - loss: 4418196865.5924 - mse: 4418196992.0000 - val_loss: 4141950540.8437 - val_mse: 4141950976.0000\n",
      "Epoch 58/100\n",
      "22828/22828 [==============================] - 1s 39us/sample - loss: 4400468596.0007 - mse: 4400469504.0000 - val_loss: 4141247399.2462 - val_mse: 4141247232.0000\n",
      "Epoch 59/100\n",
      "22828/22828 [==============================] - 1s 39us/sample - loss: 4421402864.7037 - mse: 4421402624.0000 - val_loss: 4136468462.5049 - val_mse: 4136468736.0000\n",
      "Epoch 60/100\n",
      "22828/22828 [==============================] - 1s 43us/sample - loss: 4363131528.7696 - mse: 4363131392.0000 - val_loss: 4137440972.5914 - val_mse: 4137441024.0000\n",
      "Epoch 61/100\n",
      "22828/22828 [==============================] - 1s 51us/sample - loss: 4323536815.6159 - mse: 4323536896.0000 - val_loss: 4133174470.7709 - val_mse: 4133174272.0000\n",
      "Epoch 62/100\n",
      "22828/22828 [==============================] - 1s 41us/sample - loss: 4518251636.0904 - mse: 4518251520.0000 - val_loss: 4139449056.8453 - val_mse: 4139449088.0000\n",
      "Epoch 63/100\n",
      "22828/22828 [==============================] - 1s 38us/sample - loss: 4478028057.4789 - mse: 4478028288.0000 - val_loss: 4143523650.7504 - val_mse: 4143523840.0000\n",
      "Epoch 64/100\n",
      "22828/22828 [==============================] - 1s 36us/sample - loss: 4386088309.4810 - mse: 4386087936.0000 - val_loss: 4145125573.7616 - val_mse: 4145125632.0000\n",
      "Epoch 65/100\n",
      "22828/22828 [==============================] - 1s 38us/sample - loss: 4479216276.4773 - mse: 4479216128.0000 - val_loss: 4140255453.9855 - val_mse: 4140255744.0000\n",
      "Epoch 66/100\n",
      "22828/22828 [==============================] - 1s 40us/sample - loss: 4402741191.7042 - mse: 4402741760.0000 - val_loss: 4133272249.9524 - val_mse: 4133272064.0000\n",
      "Epoch 67/100\n",
      "22828/22828 [==============================] - 1s 37us/sample - loss: 4370224887.7911 - mse: 4370224640.0000 - val_loss: 4134137242.9660 - val_mse: 4134137344.0000\n",
      "Epoch 68/100\n",
      "22828/22828 [==============================] - 1s 37us/sample - loss: 4384023738.2471 - mse: 4384023552.0000 - val_loss: 4131191079.6331 - val_mse: 4131191296.0000\n",
      "Epoch 69/100\n",
      "22828/22828 [==============================] - 1s 38us/sample - loss: 4416215457.3513 - mse: 4416215552.0000 - val_loss: 4128832421.9677 - val_mse: 4128832256.0000\n",
      "Epoch 70/100\n",
      "22828/22828 [==============================] - 1s 40us/sample - loss: 4293909292.9021 - mse: 4293908736.0000 - val_loss: 4118641951.2893 - val_mse: 4118641664.0000\n",
      "Epoch 71/100\n",
      "22828/22828 [==============================] - 1s 37us/sample - loss: 4405452978.1728 - mse: 4405453312.0000 - val_loss: 4120195469.7101 - val_mse: 4120195328.0000\n",
      "Epoch 72/100\n",
      "22828/22828 [==============================] - 1s 36us/sample - loss: 4411757540.3680 - mse: 4411757568.0000 - val_loss: 4122633043.7745 - val_mse: 4122633216.0000\n",
      "Epoch 73/100\n",
      "22828/22828 [==============================] - 1s 35us/sample - loss: 4335609792.9308 - mse: 4335609856.0000 - val_loss: 4121198744.6781 - val_mse: 4121198592.0000\n",
      "Epoch 74/100\n",
      "22828/22828 [==============================] - 1s 36us/sample - loss: 4373117587.1316 - mse: 4373118464.0000 - val_loss: 4117716096.2187 - val_mse: 4117715968.0000\n",
      "Epoch 75/100\n",
      "22828/22828 [==============================] - 1s 35us/sample - loss: 4331897204.0007 - mse: 4331897344.0000 - val_loss: 4113293488.8684 - val_mse: 4113293568.0000\n",
      "Epoch 76/100\n",
      "22828/22828 [==============================] - 1s 37us/sample - loss: 4425735725.9786 - mse: 4425735680.0000 - val_loss: 4110773355.6956 - val_mse: 4110773504.0000\n",
      "Epoch 77/100\n",
      "22828/22828 [==============================] - 1s 34us/sample - loss: 4400246764.5768 - mse: 4400247296.0000 - val_loss: 4108329049.5613 - val_mse: 4108329216.0000\n",
      "Epoch 78/100\n",
      "22828/22828 [==============================] - 1s 46us/sample - loss: 4330292344.9350 - mse: 4330292224.0000 - val_loss: 4102255113.9924 - val_mse: 4102255104.0000\n",
      "Epoch 79/100\n",
      "22828/22828 [==============================] - 1s 39us/sample - loss: 4765122587.5423 - mse: 4765123072.0000 - val_loss: 4114932484.8111 - val_mse: 4114932480.0000\n",
      "Epoch 80/100\n",
      "22828/22828 [==============================] - 1s 36us/sample - loss: 4281631922.0382 - mse: 4281633024.0000 - val_loss: 4107232865.5014 - val_mse: 4107233024.0000\n",
      "Epoch 81/100\n",
      "22828/22828 [==============================] - 1s 41us/sample - loss: 4293584541.0899 - mse: 4293584384.0000 - val_loss: 4098174240.8033 - val_mse: 4098174208.0000\n",
      "Epoch 82/100\n",
      "22828/22828 [==============================] - 1s 40us/sample - loss: 4626092658.4307 - mse: 4626092544.0000 - val_loss: 4099082050.9523 - val_mse: 4099082240.0000\n",
      "Epoch 83/100\n",
      "22828/22828 [==============================] - 1s 40us/sample - loss: 4603501665.9681 - mse: 4603502080.0000 - val_loss: 4119029609.4078 - val_mse: 4119029760.0000\n",
      "Epoch 84/100\n",
      "22828/22828 [==============================] - 1s 39us/sample - loss: 4470688235.4554 - mse: 4470688256.0000 - val_loss: 4144633104.2166 - val_mse: 4144633088.0000\n",
      "Epoch 85/100\n",
      "22828/22828 [==============================] - 1s 38us/sample - loss: 4426561500.5628 - mse: 4426561536.0000 - val_loss: 4139000213.2464 - val_mse: 4139000064.0000\n",
      "Epoch 86/100\n",
      "22828/22828 [==============================] - 1s 38us/sample - loss: 4371822736.5747 - mse: 4371822080.0000 - val_loss: 4124596961.5518 - val_mse: 4124597248.0000\n",
      "Epoch 87/100\n"
     ]
    },
    {
     "name": "stdout",
     "output_type": "stream",
     "text": [
      "22828/22828 [==============================] - 1s 37us/sample - loss: 4528701861.8370 - mse: 4528701952.0000 - val_loss: 4129512248.3207 - val_mse: 4129512448.0000\n",
      "Epoch 88/100\n",
      "22828/22828 [==============================] - 1s 42us/sample - loss: 4478805466.3648 - mse: 4478805504.0000 - val_loss: 4128152821.2338 - val_mse: 4128152832.0000\n",
      "Epoch 89/100\n",
      "22828/22828 [==============================] - 1s 43us/sample - loss: 4536055843.3475 - mse: 4536055808.0000 - val_loss: 4136069375.9327 - val_mse: 4136069120.0000\n",
      "Epoch 90/100\n",
      "22828/22828 [==============================] - 1s 39us/sample - loss: 4420912337.5728 - mse: 4420912128.0000 - val_loss: 4135034015.3397 - val_mse: 4135033856.0000\n",
      "Epoch 91/100\n",
      "22828/22828 [==============================] - 1s 45us/sample - loss: 4455795688.8088 - mse: 4455795712.0000 - val_loss: 4130385975.6814 - val_mse: 4130386176.0000\n",
      "Epoch 92/100\n",
      "22828/22828 [==============================] - 1s 50us/sample - loss: 4334494080.1570 - mse: 4334494208.0000 - val_loss: 4124761416.8737 - val_mse: 4124761344.0000\n",
      "Epoch 93/100\n",
      "22828/22828 [==============================] - 1s 45us/sample - loss: 4255792507.4021 - mse: 4255792896.0000 - val_loss: 4104988137.8284 - val_mse: 4104988160.0000\n",
      "Epoch 94/100\n",
      "22828/22828 [==============================] - 1s 49us/sample - loss: 4341455990.2884 - mse: 4341456384.0000 - val_loss: 4097913693.1276 - val_mse: 4097913856.0000\n",
      "Epoch 95/100\n",
      "22828/22828 [==============================] - 1s 52us/sample - loss: 4444190500.3792 - mse: 4444190720.0000 - val_loss: 4095135429.5934 - val_mse: 4095134976.0000\n",
      "Epoch 96/100\n",
      "22828/22828 [==============================] - 1s 40us/sample - loss: 4326530930.1167 - mse: 4326530560.0000 - val_loss: 4101403686.1527 - val_mse: 4101403648.0000\n",
      "Epoch 97/100\n",
      "22828/22828 [==============================] - 1s 38us/sample - loss: 4318281799.4127 - mse: 4318282240.0000 - val_loss: 4096448024.8632 - val_mse: 4096448512.0000\n",
      "Epoch 98/100\n",
      "22828/22828 [==============================] - 1s 38us/sample - loss: 4338351742.2730 - mse: 4338351616.0000 - val_loss: 4093129552.1409 - val_mse: 4093129472.0000\n",
      "Epoch 99/100\n",
      "22828/22828 [==============================] - 1s 39us/sample - loss: 4381455006.9739 - mse: 4381455360.0000 - val_loss: 4092026125.5587 - val_mse: 4092026368.0000\n",
      "Epoch 100/100\n",
      "22828/22828 [==============================] - 1s 48us/sample - loss: 4462321678.0403 - mse: 4462321152.0000 - val_loss: 4093051354.9576 - val_mse: 4093051136.0000\n"
     ]
    }
   ],
   "source": [
    "\n",
    "model = Sequential([\n",
    "    Dense(1024, activation='relu', input_shape=(6, )),\n",
    "    Dropout(0.7),\n",
    "    Dense(128, activation='relu'),\n",
    "    Dropout(0.5),\n",
    "    Dense(1, activation='linear')\n",
    "])\n",
    "\n",
    "model.summary()\n",
    "model.compile(optimizer=Adam(learning_rate=0.1, decay=0.1), loss='mse', metrics=['mse'])\n",
    "\n",
    "hist = model.fit(x_train, y_train, batch_size=1024, epochs=100,\n",
    "                validation_data=(x_val, y_val), verbose=1, shuffle=True)\n"
   ]
  },
  {
   "cell_type": "code",
   "execution_count": 91,
   "metadata": {},
   "outputs": [],
   "source": [
    "pred = model.predict(x_train)"
   ]
  },
  {
   "cell_type": "code",
   "execution_count": 101,
   "metadata": {},
   "outputs": [
    {
     "data": {
      "text/plain": [
       "array([48000., 36000., 14000., ..., 19000., 14000., 29000.])"
      ]
     },
     "execution_count": 101,
     "metadata": {},
     "output_type": "execute_result"
    }
   ],
   "source": [
    "from sklearn import tree\n",
    "clf = tree.DecisionTreeRegressor()\n",
    "clf = clf.fit(x_train, y_train)\n",
    "clf.predict(x_test)"
   ]
  },
  {
   "cell_type": "code",
   "execution_count": null,
   "metadata": {},
   "outputs": [],
   "source": []
  },
  {
   "cell_type": "code",
   "execution_count": 117,
   "metadata": {},
   "outputs": [
    {
     "data": {
      "text/plain": [
       "array([ 48000, 127000,  17000, ...,  19000,  34000,  40000])"
      ]
     },
     "execution_count": 117,
     "metadata": {},
     "output_type": "execute_result"
    }
   ],
   "source": [
    "y_test"
   ]
  },
  {
   "cell_type": "code",
   "execution_count": 112,
   "metadata": {},
   "outputs": [],
   "source": [
    "from sklearn.ensemble import RandomForestRegressor\n",
    "regr = RandomForestRegressor(max_depth=10, random_state=0, n_estimators=3000)\n",
    "regr = clf.fit(x_train, y_train) "
   ]
  },
  {
   "cell_type": "code",
   "execution_count": 116,
   "metadata": {},
   "outputs": [],
   "source": [
    "pred = regr.predict(x_test)"
   ]
  },
  {
   "cell_type": "code",
   "execution_count": 119,
   "metadata": {},
   "outputs": [
    {
     "data": {
      "text/plain": [
       "array([     0., -91000.,  -3000., ...,      0., -23000., -11000.])"
      ]
     },
     "execution_count": 119,
     "metadata": {},
     "output_type": "execute_result"
    }
   ],
   "source": [
    "eiei = (pred - y_test)\n",
    "eiei"
   ]
  },
  {
   "cell_type": "code",
   "execution_count": 123,
   "metadata": {},
   "outputs": [
    {
     "data": {
      "text/plain": [
       "array([     0, -91000,  -3000, ...,      0, -23000, -11000])"
      ]
     },
     "execution_count": 123,
     "metadata": {},
     "output_type": "execute_result"
    }
   ],
   "source": [
    "eiei = np.array(eiei, dtype=np.int)\n",
    "eiei"
   ]
  },
  {
   "cell_type": "code",
   "execution_count": 124,
   "metadata": {},
   "outputs": [],
   "source": [
    "eiei = np.where(eiei == 0, True, False)"
   ]
  },
  {
   "cell_type": "code",
   "execution_count": 126,
   "metadata": {},
   "outputs": [
    {
     "ename": "AttributeError",
     "evalue": "'numpy.ndarray' object has no attribute 'toList'",
     "output_type": "error",
     "traceback": [
      "\u001b[0;31m---------------------------------------------------------------------------\u001b[0m",
      "\u001b[0;31mAttributeError\u001b[0m                            Traceback (most recent call last)",
      "\u001b[0;32m<ipython-input-126-042c73edde13>\u001b[0m in \u001b[0;36m<module>\u001b[0;34m\u001b[0m\n\u001b[0;32m----> 1\u001b[0;31m \u001b[0meiei\u001b[0m \u001b[0;34m=\u001b[0m \u001b[0meiei\u001b[0m\u001b[0;34m.\u001b[0m\u001b[0mtoList\u001b[0m\u001b[0;34m(\u001b[0m\u001b[0;34m)\u001b[0m\u001b[0;34m\u001b[0m\u001b[0m\n\u001b[0m",
      "\u001b[0;31mAttributeError\u001b[0m: 'numpy.ndarray' object has no attribute 'toList'"
     ]
    }
   ],
   "source": [
    "eiei = list(eiei"
   ]
  },
  {
   "cell_type": "code",
   "execution_count": null,
   "metadata": {},
   "outputs": [],
   "source": []
  }
 ],
 "metadata": {
  "kernelspec": {
   "display_name": "Python 3",
   "language": "python",
   "name": "python3"
  },
  "language_info": {
   "codemirror_mode": {
    "name": "ipython",
    "version": 3
   },
   "file_extension": ".py",
   "mimetype": "text/x-python",
   "name": "python",
   "nbconvert_exporter": "python",
   "pygments_lexer": "ipython3",
   "version": "3.6.5"
  }
 },
 "nbformat": 4,
 "nbformat_minor": 2
}
