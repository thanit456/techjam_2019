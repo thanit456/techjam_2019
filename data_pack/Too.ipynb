{
 "cells": [
  {
   "cell_type": "code",
   "execution_count": 17,
   "metadata": {},
   "outputs": [],
   "source": [
    "import numpy as np\n",
    "import pandas as pd\n",
    "import matplotlib.pyplot as plt"
   ]
  },
  {
   "cell_type": "code",
   "execution_count": 18,
   "metadata": {},
   "outputs": [],
   "source": [
    "import tensorflow as tf\n",
    "from tensorflow.keras.layers import Dense, Dropout, BatchNormalization, LeakyReLU\n",
    "from tensorflow.keras.optimizers import Adam, SGD\n",
    "from tensorflow.keras.models import Model, Sequential\n",
    "from tensorflow.keras.callbacks import *\n",
    "from tensorflow.keras import backend as K\n",
    "from tensorflow.keras.losses import *"
   ]
  },
  {
   "cell_type": "code",
   "execution_count": 19,
   "metadata": {},
   "outputs": [],
   "source": [
    "def SMAPE(y_true, y_pred):\n",
    "    N = tf.cast(tf.shape(y_true, out_type=tf.int32)[-1], dtype=tf.float32)\n",
    "    t1 = tf.math.pow(tf.math.abs(tf.math.subtract(y_pred, y_true)), tf.constant(2.0, dtype=tf.float32))\n",
    "    t2 = tf.math.minimum( tf.math.multiply(tf.constant(2.0, dtype=tf.float32),tf.math.abs(y_true)), tf.math.abs(y_pred))\n",
    "    t3 = tf.math.pow(tf.math.add(t2, tf.math.abs(y_true)), tf.constant(2.0, dtype=tf.float32))\n",
    "    t4 = tf.math.divide(t1, t3)\n",
    "    m = tf.math.multiply(tf.math.divide(tf.constant(100.0,dtype=tf.float32), N), t4)\n",
    "    res = tf.math.subtract(tf.constant(100.0,dtype=tf.float32), m)\n",
    "    return res\n",
    "\n",
    "def test_SMAPE(y_true, y_pred):\n",
    "    score = 100\n",
    "    val = 0\n",
    "    for i in range(y_true.shape[0]):\n",
    "        val += abs(y_pred[i]-y_true[i])**2/(min(2*abs(y_true[i]),abs(y_pred[i])) + abs(y_true[i]) )**2\n",
    "    score -= (100/y_true.shape[0])*val\n",
    "    return score"
   ]
  },
  {
   "cell_type": "code",
   "execution_count": 20,
   "metadata": {
    "scrolled": true
   },
   "outputs": [
    {
     "name": "stdout",
     "output_type": "stream",
     "text": [
      "Model: \"sequential_1\"\n",
      "_________________________________________________________________\n",
      "Layer (type)                 Output Shape              Param #   \n",
      "=================================================================\n",
      "dense_5 (Dense)              (None, 1024)              8192      \n",
      "_________________________________________________________________\n",
      "leaky_re_lu_5 (LeakyReLU)    (None, 1024)              0         \n",
      "_________________________________________________________________\n",
      "batch_normalization_4 (Batch (None, 1024)              4096      \n",
      "_________________________________________________________________\n",
      "dense_6 (Dense)              (None, 512)               524800    \n",
      "_________________________________________________________________\n",
      "leaky_re_lu_6 (LeakyReLU)    (None, 512)               0         \n",
      "_________________________________________________________________\n",
      "batch_normalization_5 (Batch (None, 512)               2048      \n",
      "_________________________________________________________________\n",
      "dense_7 (Dense)              (None, 256)               131328    \n",
      "_________________________________________________________________\n",
      "leaky_re_lu_7 (LeakyReLU)    (None, 256)               0         \n",
      "_________________________________________________________________\n",
      "batch_normalization_6 (Batch (None, 256)               1024      \n",
      "_________________________________________________________________\n",
      "dense_8 (Dense)              (None, 128)               32896     \n",
      "_________________________________________________________________\n",
      "leaky_re_lu_8 (LeakyReLU)    (None, 128)               0         \n",
      "_________________________________________________________________\n",
      "batch_normalization_7 (Batch (None, 128)               512       \n",
      "_________________________________________________________________\n",
      "dense_9 (Dense)              (None, 1)                 129       \n",
      "_________________________________________________________________\n",
      "leaky_re_lu_9 (LeakyReLU)    (None, 1)                 0         \n",
      "=================================================================\n",
      "Total params: 705,025\n",
      "Trainable params: 701,185\n",
      "Non-trainable params: 3,840\n",
      "_________________________________________________________________\n"
     ]
    }
   ],
   "source": [
    "def get_nn_model_1(lr=6e-3, amsgrad=True, n_feature=3, l2_kernel=0.01, l1_act=0.01, decay=0.001):\n",
    "    adam = Adam(lr=lr,amsgrad=amsgrad, decay=decay)\n",
    "    model = Sequential()\n",
    "    model.add(Dense(1024, input_shape=(n_feature,), kernel_regularizer=tf.keras.regularizers.l2(l2_kernel), \\\n",
    "                    activity_regularizer=tf.keras.regularizers.l1(l1_act)))\n",
    "    model.add(LeakyReLU())\n",
    "    model.add(BatchNormalization())\n",
    "    model.add(Dense(512))\n",
    "    model.add(LeakyReLU())\n",
    "    model.add(BatchNormalization())\n",
    "    model.add(Dense(256))\n",
    "    model.add(LeakyReLU())\n",
    "    model.add(BatchNormalization())\n",
    "    model.add(Dense(128))\n",
    "    model.add(LeakyReLU())\n",
    "    model.add(BatchNormalization())\n",
    "    model.add(Dense(1))\n",
    "    model.add(LeakyReLU())\n",
    "    model.compile(loss='mse', optimizer=adam, metrics=[SMAPE])\n",
    "    model.build()\n",
    "    model.summary()\n",
    "    return model\n",
    "model = get_nn_model_1(n_feature=7)"
   ]
  },
  {
   "cell_type": "code",
   "execution_count": 21,
   "metadata": {},
   "outputs": [],
   "source": [
    "norm_df = pd.read_csv('norm_data_df.csv')\n",
    "train_df = pd.read_csv('train.csv')"
   ]
  },
  {
   "cell_type": "code",
   "execution_count": 22,
   "metadata": {},
   "outputs": [
    {
     "data": {
      "text/html": [
       "<div>\n",
       "<style scoped>\n",
       "    .dataframe tbody tr th:only-of-type {\n",
       "        vertical-align: middle;\n",
       "    }\n",
       "\n",
       "    .dataframe tbody tr th {\n",
       "        vertical-align: top;\n",
       "    }\n",
       "\n",
       "    .dataframe thead th {\n",
       "        text-align: right;\n",
       "    }\n",
       "</style>\n",
       "<table border=\"1\" class=\"dataframe\">\n",
       "  <thead>\n",
       "    <tr style=\"text-align: right;\">\n",
       "      <th></th>\n",
       "      <th>id</th>\n",
       "      <th>gender</th>\n",
       "      <th>ocp_cd</th>\n",
       "      <th>age</th>\n",
       "      <th>cc_txn_amt</th>\n",
       "      <th>cc_count</th>\n",
       "      <th>kp_txn_count</th>\n",
       "      <th>kp_txn_amt</th>\n",
       "      <th>income</th>\n",
       "    </tr>\n",
       "  </thead>\n",
       "  <tbody>\n",
       "    <tr>\n",
       "      <th>11841</th>\n",
       "      <td>11842</td>\n",
       "      <td>2</td>\n",
       "      <td>9.0</td>\n",
       "      <td>3</td>\n",
       "      <td>3.662758</td>\n",
       "      <td>5.0</td>\n",
       "      <td>39.0</td>\n",
       "      <td>5.348500</td>\n",
       "      <td>28000</td>\n",
       "    </tr>\n",
       "    <tr>\n",
       "      <th>19602</th>\n",
       "      <td>19603</td>\n",
       "      <td>1</td>\n",
       "      <td>4.0</td>\n",
       "      <td>4</td>\n",
       "      <td>5.436799</td>\n",
       "      <td>97.0</td>\n",
       "      <td>0.0</td>\n",
       "      <td>0.000000</td>\n",
       "      <td>65000</td>\n",
       "    </tr>\n",
       "    <tr>\n",
       "      <th>45519</th>\n",
       "      <td>45520</td>\n",
       "      <td>2</td>\n",
       "      <td>3.0</td>\n",
       "      <td>4</td>\n",
       "      <td>4.017033</td>\n",
       "      <td>13.0</td>\n",
       "      <td>0.0</td>\n",
       "      <td>0.000000</td>\n",
       "      <td>21000</td>\n",
       "    </tr>\n",
       "    <tr>\n",
       "      <th>25747</th>\n",
       "      <td>25748</td>\n",
       "      <td>1</td>\n",
       "      <td>9.0</td>\n",
       "      <td>5</td>\n",
       "      <td>0.000000</td>\n",
       "      <td>0.0</td>\n",
       "      <td>0.0</td>\n",
       "      <td>0.000000</td>\n",
       "      <td>33000</td>\n",
       "    </tr>\n",
       "    <tr>\n",
       "      <th>42642</th>\n",
       "      <td>42643</td>\n",
       "      <td>2</td>\n",
       "      <td>4.0</td>\n",
       "      <td>3</td>\n",
       "      <td>6.167376</td>\n",
       "      <td>230.0</td>\n",
       "      <td>228.0</td>\n",
       "      <td>6.683263</td>\n",
       "      <td>95000</td>\n",
       "    </tr>\n",
       "  </tbody>\n",
       "</table>\n",
       "</div>"
      ],
      "text/plain": [
       "          id  gender  ocp_cd  age  cc_txn_amt  cc_count  kp_txn_count  \\\n",
       "11841  11842       2     9.0    3    3.662758       5.0          39.0   \n",
       "19602  19603       1     4.0    4    5.436799      97.0           0.0   \n",
       "45519  45520       2     3.0    4    4.017033      13.0           0.0   \n",
       "25747  25748       1     9.0    5    0.000000       0.0           0.0   \n",
       "42642  42643       2     4.0    3    6.167376     230.0         228.0   \n",
       "\n",
       "       kp_txn_amt  income  \n",
       "11841    5.348500   28000  \n",
       "19602    0.000000   65000  \n",
       "45519    0.000000   21000  \n",
       "25747    0.000000   33000  \n",
       "42642    6.683263   95000  "
      ]
     },
     "execution_count": 22,
     "metadata": {},
     "output_type": "execute_result"
    }
   ],
   "source": [
    "whole_df = pd.merge(norm_df, train_df, on='id', how='inner')\n",
    "\n",
    "# random data\n",
    "train_set = whole_df.sample(frac=0.90, random_state=0)\n",
    "test_set = whole_df.drop(train_set.index)\n",
    "\n",
    "train_set.head()"
   ]
  },
  {
   "cell_type": "code",
   "execution_count": 23,
   "metadata": {},
   "outputs": [],
   "source": [
    "def df2np(df):\n",
    "    if 'id' in df.columns:\n",
    "        df = df.drop('id', axis=1)\n",
    "   \n",
    "    y = None\n",
    "    if 'income' in df.columns:\n",
    "        y = df['income'].to_numpy()\n",
    "        df = df.drop('income', axis=1)\n",
    "    x = df.to_numpy()\n",
    "    return x, y"
   ]
  },
  {
   "cell_type": "code",
   "execution_count": 24,
   "metadata": {},
   "outputs": [],
   "source": [
    "x_train, y_train = df2np(train_set)\n",
    "x_test, y_test = df2np(test_set)"
   ]
  },
  {
   "cell_type": "code",
   "execution_count": null,
   "metadata": {
    "scrolled": false
   },
   "outputs": [
    {
     "name": "stdout",
     "output_type": "stream",
     "text": [
      "Train on 45000 samples, validate on 5000 samples\n",
      "Epoch 1/150\n",
      "45000/45000 [==============================] - 11s 235us/sample - loss: nan - SMAPE: nan - val_loss: nan - val_SMAPE: nan\n",
      "Epoch 2/150\n",
      "45000/45000 [==============================] - 7s 166us/sample - loss: nan - SMAPE: nan - val_loss: nan - val_SMAPE: nan\n",
      "Epoch 3/150\n",
      "45000/45000 [==============================] - 7s 146us/sample - loss: nan - SMAPE: nan - val_loss: nan - val_SMAPE: nan\n",
      "Epoch 4/150\n",
      "45000/45000 [==============================] - 9s 206us/sample - loss: nan - SMAPE: nan - val_loss: nan - val_SMAPE: nan\n",
      "Epoch 5/150\n",
      "45000/45000 [==============================] - 9s 201us/sample - loss: nan - SMAPE: nan - val_loss: nan - val_SMAPE: nan\n",
      "Epoch 6/150\n",
      "45000/45000 [==============================] - 7s 157us/sample - loss: nan - SMAPE: nan - val_loss: nan - val_SMAPE: nan\n",
      "Epoch 7/150\n",
      "45000/45000 [==============================] - 9s 192us/sample - loss: nan - SMAPE: nan - val_loss: nan - val_SMAPE: nan\n",
      "Epoch 8/150\n",
      "45000/45000 [==============================] - 7s 148us/sample - loss: nan - SMAPE: nan - val_loss: nan - val_SMAPE: nan\n",
      "Epoch 9/150\n",
      "12032/45000 [=======>......................] - ETA: 4s - loss: nan - SMAPE: nan"
     ]
    }
   ],
   "source": [
    "hist = model.fit(x=x_train,y=y_train, epochs=150, batch_size=256, shuffle=True,validation_data=(x_test, y_test), verbose=1)\n",
    "# _y = model.predict(x_test)\n",
    "#     print('test_SMAPE:',test_SMAPE(y_test, _y))"
   ]
  },
  {
   "cell_type": "code",
   "execution_count": null,
   "metadata": {},
   "outputs": [],
   "source": [
    "# model.save_weights('./weights/too_model.hdf5')"
   ]
  },
  {
   "cell_type": "code",
   "execution_count": null,
   "metadata": {},
   "outputs": [],
   "source": [
    "loss,val_loss, score,val_score = hist.history['loss'],hist.history['val_loss'], hist.history['SMAPE'], hist.history['val_SMAPE']"
   ]
  },
  {
   "cell_type": "code",
   "execution_count": null,
   "metadata": {},
   "outputs": [],
   "source": [
    "plt.figure(figsize=(7,5))\n",
    "plt.title('loss (mse)')\n",
    "plt.plot(np.arange(len(loss)),loss,label='loss',color='blue')\n",
    "plt.plot(np.arange(len(val_loss)),val_loss,label='val_loss',color='orange')\n",
    "plt.xlabel('epoch')\n",
    "plt.ylabel('loss')\n",
    "plt.legend()\n",
    "plt.show()\n",
    "\n",
    "plt.figure(figsize=(7,5))\n",
    "plt.title('SMAPE')\n",
    "plt.plot(np.arange(len(score)),score,label='SMAPE',color='blue')\n",
    "plt.plot(np.arange(len(val_score)),val_score,label='val_SMAPE',color='orange')\n",
    "plt.xlabel('epoch')\n",
    "plt.ylabel('score')\n",
    "plt.legend()\n",
    "plt.show()"
   ]
  },
  {
   "cell_type": "code",
   "execution_count": null,
   "metadata": {},
   "outputs": [],
   "source": [
    "test_df = pd.read_csv('test.csv')\n",
    "norm_test_df = pd.merge(test_df, norm_df, on='id', how='inner')\n",
    "norm_test_df"
   ]
  },
  {
   "cell_type": "code",
   "execution_count": 66,
   "metadata": {},
   "outputs": [],
   "source": [
    "x_test, _ = df2np(norm_test_df)"
   ]
  },
  {
   "cell_type": "code",
   "execution_count": 67,
   "metadata": {},
   "outputs": [],
   "source": [
    "model.load_weights('./weights/too_model.hdf5')"
   ]
  },
  {
   "cell_type": "code",
   "execution_count": 68,
   "metadata": {},
   "outputs": [
    {
     "data": {
      "text/plain": [
       "array([[25170.336],\n",
       "       [18778.193],\n",
       "       [26193.99 ],\n",
       "       ...,\n",
       "       [22761.492],\n",
       "       [33594.78 ],\n",
       "       [24332.344]], dtype=float32)"
      ]
     },
     "execution_count": 68,
     "metadata": {},
     "output_type": "execute_result"
    }
   ],
   "source": [
    "y_pred = model.predict(x_test)\n",
    "y_pred"
   ]
  },
  {
   "cell_type": "code",
   "execution_count": 69,
   "metadata": {},
   "outputs": [],
   "source": [
    "test_df['income'] = y_pred"
   ]
  },
  {
   "cell_type": "code",
   "execution_count": 71,
   "metadata": {},
   "outputs": [],
   "source": [
    "test_df.to_csv('output_too.csv')"
   ]
  },
  {
   "cell_type": "code",
   "execution_count": null,
   "metadata": {},
   "outputs": [],
   "source": []
  }
 ],
 "metadata": {
  "kernelspec": {
   "display_name": "Python 3",
   "language": "python",
   "name": "python3"
  },
  "language_info": {
   "codemirror_mode": {
    "name": "ipython",
    "version": 3
   },
   "file_extension": ".py",
   "mimetype": "text/x-python",
   "name": "python",
   "nbconvert_exporter": "python",
   "pygments_lexer": "ipython3",
   "version": "3.6.5"
  }
 },
 "nbformat": 4,
 "nbformat_minor": 2
}
